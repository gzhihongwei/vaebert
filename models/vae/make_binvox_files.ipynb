{
 "cells": [
  {
   "cell_type": "code",
   "execution_count": 61,
   "id": "4f82561c-adca-478f-80ef-4b9bec9bef49",
   "metadata": {},
   "outputs": [],
   "source": [
    "import argparse\n",
    "import json\n",
    "import logging\n",
    "import os\n",
    "import sys\n",
    "\n",
    "import numpy as np\n",
    "import torch\n",
    "import torch.optim as optim\n",
    "\n",
    "from torch.utils.data import DataLoader, Subset\n",
    "\n",
    "from tqdm import tqdm\n",
    "\n",
    "from data import PartNetVoxelDataset\n",
    "from vae import VAE\n",
    "\n",
    "device = torch.device('cuda')"
   ]
  },
  {
   "cell_type": "code",
   "execution_count": 62,
   "id": "a17341ad-7264-403b-a699-df99650853f6",
   "metadata": {},
   "outputs": [],
   "source": [
    "model = VAE(128, 64)\n",
    "model.load_state_dict(torch.load(\"checkpoints/epoch20.pt\"))\n",
    "model.eval()\n",
    "model = model.to(device)"
   ]
  },
  {
   "cell_type": "code",
   "execution_count": 63,
   "id": "ca2fb63d-e367-4187-a3e7-9ed359109d63",
   "metadata": {},
   "outputs": [],
   "source": [
    "input_path = \"C:\\\\Users\\\\Alexandru\\\\Documents\\\\Python Scripts\\\\vaebert\\\\shapenet\"\n",
    "dataset = PartNetVoxelDataset(input_path)"
   ]
  },
  {
   "cell_type": "code",
   "execution_count": 64,
   "id": "5a2d5910-e065-4643-9aa4-8ad0d3c2d26c",
   "metadata": {},
   "outputs": [],
   "source": [
    "with open(os.path.join(input_path, \"train_indexes.json\"), \"r\") as f:\n",
    "    train_indices = json.load(f)\n",
    "\n",
    "with open(os.path.join(input_path, \"test_indexes.json\"), \"r\") as f:\n",
    "    test_indices = json.load(f)\n",
    "\n",
    "train_dataset = Subset(dataset, train_indices)\n",
    "test_dataset = Subset(dataset, test_indices)\n",
    "train_loader = DataLoader(\n",
    "    train_dataset,\n",
    "    batch_size=40,\n",
    "    shuffle=True,\n",
    "    num_workers=1,\n",
    ")\n",
    "test_loader = DataLoader(\n",
    "    test_dataset,\n",
    "    batch_size=40,\n",
    "    shuffle=False,\n",
    "    num_workers=1,\n",
    ")"
   ]
  },
  {
   "cell_type": "code",
   "execution_count": 65,
   "id": "5a8b700f-f704-429d-955f-a459c3bb6ee8",
   "metadata": {},
   "outputs": [],
   "source": [
    "batch = next(iter(test_loader)).float().to(device)"
   ]
  },
  {
   "cell_type": "code",
   "execution_count": 66,
   "id": "8f29a9cb-78f7-42f4-bcb6-2ae12c1bb686",
   "metadata": {},
   "outputs": [
    {
     "name": "stdout",
     "output_type": "stream",
     "text": [
      "torch.Size([40, 1, 64, 64, 64])\n"
     ]
    }
   ],
   "source": [
    "print(batch.shape)"
   ]
  },
  {
   "cell_type": "code",
   "execution_count": 67,
   "id": "14de530e-c53b-4952-b63f-aad71326b915",
   "metadata": {},
   "outputs": [],
   "source": [
    "_, batch_output = model(batch)"
   ]
  },
  {
   "cell_type": "code",
   "execution_count": 68,
   "id": "f147f845-83d2-4be3-806b-208d451b83e4",
   "metadata": {},
   "outputs": [
    {
     "name": "stdout",
     "output_type": "stream",
     "text": [
      "torch.Size([40, 1, 64, 64, 64])\n"
     ]
    }
   ],
   "source": [
    "print(batch_output.shape)"
   ]
  },
  {
   "cell_type": "code",
   "execution_count": 69,
   "id": "0d97a747-5160-40a3-9e86-9927426c7427",
   "metadata": {},
   "outputs": [],
   "source": [
    "batch_output= batch_output.squeeze()\n",
    "batch = batch.squeeze()"
   ]
  },
  {
   "cell_type": "code",
   "execution_count": 70,
   "id": "f69e52df-6fa7-45bb-824f-fc79f60257bc",
   "metadata": {},
   "outputs": [],
   "source": [
    "from binvox_rw import Voxels"
   ]
  },
  {
   "cell_type": "code",
   "execution_count": 74,
   "id": "0291ad0e-7ad0-42f4-a1a9-23678aa89159",
   "metadata": {},
   "outputs": [],
   "source": [
    "with open('1_old.binvox', 'wb') as f:\n",
    "    voxel1 = Voxels((np.round(batch[0].cpu().detach().numpy()) > 0), [64, 64, 64], [0.0, 0.0, 0.0], 1.0, 'xyz')\n",
    "    voxel1.write(f)\n",
    "with open('1_new.binvox', 'wb') as f:\n",
    "    voxel1 = Voxels((1/(1 + np.exp(-(batch_output[0].cpu().detach().numpy())))) > 0.5, [64, 64, 64], [0.0, 0.0, 0.0], 1.0, 'xyz')\n",
    "    voxel1.write(f)"
   ]
  },
  {
   "cell_type": "code",
   "execution_count": 79,
   "id": "f08b5194-dd55-4073-a065-8f619825e476",
   "metadata": {},
   "outputs": [],
   "source": [
    "with open('2_old.binvox', 'wb') as f:\n",
    "    voxel1 = Voxels((np.round(batch[1].cpu().detach().numpy()) > 0), [64, 64, 64], [0.0, 0.0, 0.0], 1.0, 'xyz')\n",
    "    voxel1.write(f)\n",
    "with open('2_new.binvox', 'wb') as f:\n",
    "    voxel1 = Voxels((1/(1 + np.exp(-(batch_output[1].cpu().detach().numpy())))) > 0.5, [64, 64, 64], [0.0, 0.0, 0.0], 1.0, 'xyz')\n",
    "    voxel1.write(f)"
   ]
  },
  {
   "cell_type": "code",
   "execution_count": 78,
   "id": "fc5afe12-56e8-439a-9e50-2c37a33cec86",
   "metadata": {},
   "outputs": [
    {
     "name": "stdout",
     "output_type": "stream",
     "text": [
      "0.21095657348632812\n"
     ]
    }
   ],
   "source": [
    "print(((1/(1 + np.exp(-(batch_output[0].cpu().detach().numpy())))) > 0.8).mean())"
   ]
  },
  {
   "cell_type": "code",
   "execution_count": null,
   "id": "fec67a42-f0f3-44f6-9be5-86d335fb3586",
   "metadata": {},
   "outputs": [],
   "source": []
  }
 ],
 "metadata": {
  "kernelspec": {
   "display_name": "Python 3 (ipykernel)",
   "language": "python",
   "name": "python3"
  },
  "language_info": {
   "codemirror_mode": {
    "name": "ipython",
    "version": 3
   },
   "file_extension": ".py",
   "mimetype": "text/x-python",
   "name": "python",
   "nbconvert_exporter": "python",
   "pygments_lexer": "ipython3",
   "version": "3.9.7"
  }
 },
 "nbformat": 4,
 "nbformat_minor": 5
}
