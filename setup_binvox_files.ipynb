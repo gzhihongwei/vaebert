{
 "cells": [
  {
   "cell_type": "code",
   "execution_count": 1,
   "id": "c708eaf1-3644-41e4-a9c4-f4e66a0b9875",
   "metadata": {},
   "outputs": [],
   "source": [
    "import glob\n",
    "import re\n",
    "import os\n",
    "# https://github.com/dimatura/binvox-rw-py/blob/public/binvox_rw.py\n",
    "import binvox_rw\n",
    "import torch\n",
    "from scipy import signal\n",
    "import numpy as np\n",
    "import h5py\n",
    "import json"
   ]
  },
  {
   "cell_type": "code",
   "execution_count": 2,
   "id": "ba19bd60-04bb-4a9a-afb3-9e04c1af215f",
   "metadata": {},
   "outputs": [
    {
     "name": "stdout",
     "output_type": "stream",
     "text": [
      "['8dc13611a04e2be9deeb06780e8a81ea', '8df7e58200ac5e6ab91b871e750ca615', '8ef4ac16aaf7daa9a95095163012e0b6', '90e5b3c4b760b0b5c5df8e3012a84650', '9249fe17635540b594ad6c58a4781766', '92e4d52351791ce9d9ba459409ec63ed', '946bd5aeda453b38b3a454ed6a7199e2', '94855c7a018d53e3dbfdb9be425ff2e5', '958f2d4bb17eb247c9dd845c88786daa', '970fff8bef63e40bb138abea28057850', '9725ec5429b19ba05ac28d2931a0cac6', '97f9d6942dfc12c08880edc6251fa529', '9995e8f977861716e3ebe8b18779c486', '9c203361eac308754b8a0e1f781de28e', '9dd1b8e40151bee5d2e83a37b2825e1', '9e0733f8515335ba9a87002a4eeaf610', '9f71047cd23dfc00d81aa8b56a36ec8', '9f7809b9eb2745895b142bfdf8ccf55d', '9fb6014c9944a98bd2096b2fa6f98cc7', 'a0078daa6d0328026ef2f8c390381ab2']\n",
      "13919\n",
      "['model_data\\\\shapes\\\\ShapeNetCore.v2\\\\02818832\\\\8dc13611a04e2be9deeb06780e8a81ea\\\\models\\\\model_normalized.solid.binvox', 'model_data\\\\shapes\\\\ShapeNetCore.v2\\\\02818832\\\\8df7e58200ac5e6ab91b871e750ca615\\\\models\\\\model_normalized.solid.binvox', 'model_data\\\\shapes\\\\ShapeNetCore.v2\\\\02818832\\\\8ef4ac16aaf7daa9a95095163012e0b6\\\\models\\\\model_normalized.solid.binvox', 'model_data\\\\shapes\\\\ShapeNetCore.v2\\\\02818832\\\\90e5b3c4b760b0b5c5df8e3012a84650\\\\models\\\\model_normalized.solid.binvox', 'model_data\\\\shapes\\\\ShapeNetCore.v2\\\\02818832\\\\9249fe17635540b594ad6c58a4781766\\\\models\\\\model_normalized.solid.binvox', 'model_data\\\\shapes\\\\ShapeNetCore.v2\\\\02818832\\\\92e4d52351791ce9d9ba459409ec63ed\\\\models\\\\model_normalized.solid.binvox', 'model_data\\\\shapes\\\\ShapeNetCore.v2\\\\02818832\\\\946bd5aeda453b38b3a454ed6a7199e2\\\\models\\\\model_normalized.solid.binvox', 'model_data\\\\shapes\\\\ShapeNetCore.v2\\\\02818832\\\\94855c7a018d53e3dbfdb9be425ff2e5\\\\models\\\\model_normalized.solid.binvox', 'model_data\\\\shapes\\\\ShapeNetCore.v2\\\\02818832\\\\958f2d4bb17eb247c9dd845c88786daa\\\\models\\\\model_normalized.solid.binvox', 'model_data\\\\shapes\\\\ShapeNetCore.v2\\\\02818832\\\\970fff8bef63e40bb138abea28057850\\\\models\\\\model_normalized.solid.binvox', 'model_data\\\\shapes\\\\ShapeNetCore.v2\\\\02818832\\\\9725ec5429b19ba05ac28d2931a0cac6\\\\models\\\\model_normalized.solid.binvox', 'model_data\\\\shapes\\\\ShapeNetCore.v2\\\\02818832\\\\97f9d6942dfc12c08880edc6251fa529\\\\models\\\\model_normalized.solid.binvox', 'model_data\\\\shapes\\\\ShapeNetCore.v2\\\\02818832\\\\9995e8f977861716e3ebe8b18779c486\\\\models\\\\model_normalized.solid.binvox', 'model_data\\\\shapes\\\\ShapeNetCore.v2\\\\02818832\\\\9c203361eac308754b8a0e1f781de28e\\\\models\\\\model_normalized.solid.binvox', 'model_data\\\\shapes\\\\ShapeNetCore.v2\\\\02818832\\\\9dd1b8e40151bee5d2e83a37b2825e1\\\\models\\\\model_normalized.solid.binvox', 'model_data\\\\shapes\\\\ShapeNetCore.v2\\\\02818832\\\\9e0733f8515335ba9a87002a4eeaf610\\\\models\\\\model_normalized.solid.binvox', 'model_data\\\\shapes\\\\ShapeNetCore.v2\\\\02818832\\\\9f71047cd23dfc00d81aa8b56a36ec8\\\\models\\\\model_normalized.solid.binvox', 'model_data\\\\shapes\\\\ShapeNetCore.v2\\\\02818832\\\\9f7809b9eb2745895b142bfdf8ccf55d\\\\models\\\\model_normalized.solid.binvox', 'model_data\\\\shapes\\\\ShapeNetCore.v2\\\\02818832\\\\9fb6014c9944a98bd2096b2fa6f98cc7\\\\models\\\\model_normalized.solid.binvox', 'model_data\\\\shapes\\\\ShapeNetCore.v2\\\\02818832\\\\a0078daa6d0328026ef2f8c390381ab2\\\\models\\\\model_normalized.solid.binvox']\n",
      "model_data\\shapes\\ShapeNetCore.v2\\02818832\\10c15151ebe3d237240ea0cdca7b391a\\models\\model_normalized.solid.binvox\n"
     ]
    }
   ],
   "source": [
    "with h5py.File('shapenet/binvox.hdf5','r') as hf:\n",
    "    model_ids = list(i.decode() for i in hf['model_ids'][:])\n",
    "    print(model_ids[100:120])\n",
    "\n",
    "used_cat_ids = ['02818832', '02876657', '02880940', '03001627', '03046257', '03325088', '03593526', '03636649', '03642806', '03797390', '04379243']\n",
    "all_binvox = [os.path.normpath(i) for i in glob.glob(\"model_data/shapes/ShapeNetCore.v2/*/*/models/model_normalized.solid.binvox\")]\n",
    "all_binvox = [i for i in all_binvox if i.split(\"\\\\\")[3] in used_cat_ids and i.split(\"\\\\\")[4] in model_ids]\n",
    "all_binvox = sorted(all_binvox, key=lambda x: str(x.split(\"\\\\\")[3]) + str(x.split(\"\\\\\")[4]))\n",
    "print(len(all_binvox))\n",
    "print(all_binvox[100:120])\n",
    "shape_filename = all_binvox[0]\n",
    "print(shape_filename)"
   ]
  },
  {
   "cell_type": "code",
   "execution_count": 3,
   "id": "e9fc25d1-f721-44a0-90df-b7fe284f0a70",
   "metadata": {},
   "outputs": [],
   "source": [
    "with open(shape_filename, 'rb') as f:\n",
    "    first_model = binvox_rw.read_as_3d_array(f)"
   ]
  },
  {
   "cell_type": "code",
   "execution_count": 4,
   "id": "c47aae3f-69d2-4156-ae1e-e13c72d39e80",
   "metadata": {},
   "outputs": [
    {
     "data": {
      "text/plain": [
       "(tensor([[[False, False, False,  ..., False, False, False],\n",
       "          [False, False, False,  ..., False, False, False],\n",
       "          [False, False, False,  ..., False, False, False],\n",
       "          ...,\n",
       "          [False, False, False,  ..., False, False, False],\n",
       "          [False, False, False,  ..., False, False, False],\n",
       "          [False, False, False,  ..., False, False, False]],\n",
       " \n",
       "         [[False, False, False,  ..., False, False, False],\n",
       "          [False, False, False,  ..., False, False, False],\n",
       "          [False, False, False,  ..., False, False, False],\n",
       "          ...,\n",
       "          [False, False, False,  ..., False, False, False],\n",
       "          [False, False, False,  ..., False, False, False],\n",
       "          [False, False, False,  ..., False, False, False]],\n",
       " \n",
       "         [[False, False, False,  ..., False, False, False],\n",
       "          [False, False, False,  ..., False, False, False],\n",
       "          [False, False, False,  ..., False, False, False],\n",
       "          ...,\n",
       "          [False, False, False,  ..., False, False, False],\n",
       "          [False, False, False,  ..., False, False, False],\n",
       "          [False, False, False,  ..., False, False, False]],\n",
       " \n",
       "         ...,\n",
       " \n",
       "         [[False, False, False,  ..., False, False, False],\n",
       "          [False, False, False,  ..., False, False, False],\n",
       "          [False, False, False,  ..., False, False, False],\n",
       "          ...,\n",
       "          [False, False, False,  ..., False, False, False],\n",
       "          [False, False, False,  ..., False, False, False],\n",
       "          [False, False, False,  ..., False, False, False]],\n",
       " \n",
       "         [[False, False, False,  ..., False, False, False],\n",
       "          [False, False, False,  ..., False, False, False],\n",
       "          [False, False, False,  ..., False, False, False],\n",
       "          ...,\n",
       "          [False, False, False,  ..., False, False, False],\n",
       "          [False, False, False,  ..., False, False, False],\n",
       "          [False, False, False,  ..., False, False, False]],\n",
       " \n",
       "         [[False, False, False,  ..., False, False, False],\n",
       "          [False, False, False,  ..., False, False, False],\n",
       "          [False, False, False,  ..., False, False, False],\n",
       "          ...,\n",
       "          [False, False, False,  ..., False, False, False],\n",
       "          [False, False, False,  ..., False, False, False],\n",
       "          [False, False, False,  ..., False, False, False]]]),\n",
       " 0.07629632949829102)"
      ]
     },
     "execution_count": 4,
     "metadata": {},
     "output_type": "execute_result"
    }
   ],
   "source": [
    "# https://github.com/starstorms9/shape/blob/ddbacbd0a9897ac6ca78a42a23732c34c13bda1a/utils.py#L303\n",
    "x = np.arange(-6, 7, 1)\n",
    "y = np.arange(-6, 7, 1)\n",
    "z = np.arange(-6, 7, 1)\n",
    "xx, yy, zz = np.meshgrid(x,y,z)\n",
    "gaussian_kernel = np.exp(-(xx**2 + yy**2 + zz**2)/(2*1**2))\n",
    "\n",
    "def process_voxel(model):\n",
    "    global gaussian_kernel\n",
    "    vox = model.data.astype(float)\n",
    "    \n",
    "    # Verify the sparsity\n",
    "    sparsity = vox.mean()\n",
    "    if sparsity < 0.01:\n",
    "        return None, sparsity\n",
    "    elif sparsity < 0.4:\n",
    "        vox_with_kernel = signal.convolve(vox, gaussian_kernel, mode=\"same\")\n",
    "        vox = np.where(vox_with_kernel > 0.1, 1, 0)\n",
    "        # print(sparsity, \"new value:\", vox.mean())\n",
    "    \n",
    "    # Center the voxels\n",
    "    max_vals_by_axis = [np.max(np.max(vox, axis=2), axis=1), np.max(np.max(vox, axis=2), axis=0), np.max(np.max(vox, axis=1), axis=0)]\n",
    "\n",
    "    for axis_idx in range(3):\n",
    "        first_significant_idx = 0\n",
    "        last_significant_idx = 127\n",
    "        prev_value = 0\n",
    "        for idx in range(128):\n",
    "            if round(max_vals_by_axis[axis_idx][idx]) > 0:\n",
    "                first_significant_idx = idx\n",
    "                break\n",
    "                \n",
    "        for idx in reversed(range(128)):\n",
    "            if round(max_vals_by_axis[axis_idx][idx]) > 0:\n",
    "                last_significant_idx = idx\n",
    "                break\n",
    "                \n",
    "        off_center_val = int((128 - (last_significant_idx - first_significant_idx)) / 2) - first_significant_idx\n",
    "        vox = np.roll(vox, off_center_val, axis=axis_idx)\n",
    "\n",
    "    vox_tensor = torch.tensor(vox).float()\n",
    "    m = torch.nn.AvgPool3d(2, stride=2)\n",
    "    vox_tensor = torch.round(m(vox_tensor.reshape(1,128,128,128)).reshape(64,64,64)).bool()\n",
    "    return vox_tensor, sparsity\n",
    "    \n",
    "process_voxel(first_model)"
   ]
  },
  {
   "cell_type": "code",
   "execution_count": 5,
   "id": "936d9b28-1132-4a10-ae75-9f95c5a09345",
   "metadata": {},
   "outputs": [
    {
     "name": "stdout",
     "output_type": "stream",
     "text": [
      "2500\n",
      "5000\n",
      "7500\n",
      "10000\n",
      "12500\n"
     ]
    }
   ],
   "source": [
    "cat_ids = []\n",
    "model_ids = []\n",
    "voxel_shapes = []\n",
    "num_sparsity_under_001 = 0\n",
    "num_sparsity_under_04 = 0\n",
    "num_sparsity_over_04 = 0\n",
    "\n",
    "i = 0\n",
    "for file_name in all_binvox:\n",
    "    split_file_name = file_name.split(\"\\\\\")\n",
    "    category_id = split_file_name[3]\n",
    "    model_id = split_file_name[4]\n",
    "    with open(file_name, 'rb') as f:\n",
    "        current_model = binvox_rw.read_as_3d_array(f)\n",
    "        vox_tensor, sparsity = process_voxel(current_model)\n",
    "        if sparsity < 0.01:\n",
    "            num_sparsity_under_001 += 1\n",
    "        elif sparsity < 0.4:\n",
    "            num_sparsity_under_04 += 1\n",
    "        else:\n",
    "            num_sparsity_over_04 += 1\n",
    "        if vox_tensor is not None:\n",
    "            cat_ids.append(category_id)\n",
    "            model_ids.append(model_id)\n",
    "            voxel_shapes.append(vox_tensor)\n",
    "    i += 1\n",
    "    if i % 2500 == 0:\n",
    "        print(i)"
   ]
  },
  {
   "cell_type": "code",
   "execution_count": 6,
   "id": "e9187a98-eb24-4c05-a1fc-db4d86fa3064",
   "metadata": {},
   "outputs": [
    {
     "name": "stdout",
     "output_type": "stream",
     "text": [
      "(13919, 64, 64, 64)\n"
     ]
    }
   ],
   "source": [
    "voxel_shapes_numpy = torch.stack(voxel_shapes, dim=0).numpy()\n",
    "print(voxel_shapes_numpy.shape)"
   ]
  },
  {
   "cell_type": "code",
   "execution_count": 7,
   "id": "3cc82f61-1e08-4752-a368-d5193c7453ce",
   "metadata": {},
   "outputs": [],
   "source": [
    "with h5py.File('shapenet/binvox.hdf5', 'a') as f:\n",
    "    dset = f.create_dataset(\"shapes\", data=voxel_shapes_numpy)"
   ]
  },
  {
   "cell_type": "code",
   "execution_count": 8,
   "id": "3ece5b0a-8bfa-4307-abde-4cf4787ce01e",
   "metadata": {},
   "outputs": [
    {
     "name": "stdout",
     "output_type": "stream",
     "text": [
      "0\n",
      "13663\n",
      "256\n"
     ]
    }
   ],
   "source": [
    "print(num_sparsity_under_001)\n",
    "print(num_sparsity_under_04)\n",
    "print(num_sparsity_over_04)"
   ]
  },
  {
   "cell_type": "code",
   "execution_count": 9,
   "id": "2d38a03b-fcd4-449d-9308-a732b167a3cb",
   "metadata": {},
   "outputs": [],
   "source": [
    "# with open('model_metadata.json', 'w') as f:\n",
    "#     json.dump({\"cat_ids\": cat_ids, \"model_ids\": model_ids}, f)"
   ]
  }
 ],
 "metadata": {
  "kernelspec": {
   "display_name": "Python 3 (ipykernel)",
   "language": "python",
   "name": "python3"
  },
  "language_info": {
   "codemirror_mode": {
    "name": "ipython",
    "version": 3
   },
   "file_extension": ".py",
   "mimetype": "text/x-python",
   "name": "python",
   "nbconvert_exporter": "python",
   "pygments_lexer": "ipython3",
   "version": "3.9.7"
  }
 },
 "nbformat": 4,
 "nbformat_minor": 5
}
