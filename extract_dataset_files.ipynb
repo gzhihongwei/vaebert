{
 "cells": [
  {
   "cell_type": "code",
   "execution_count": 34,
   "id": "c5e75381-dd85-4a99-aef3-1beecb167ee3",
   "metadata": {},
   "outputs": [],
   "source": [
    "import zipfile\n",
    "import json"
   ]
  },
  {
   "cell_type": "code",
   "execution_count": 4,
   "id": "f3fc5bc4-1351-4ef9-96fe-f269dfeec3f1",
   "metadata": {},
   "outputs": [],
   "source": [
    "archive = zipfile.ZipFile(\"data_v0.zip\")"
   ]
  },
  {
   "cell_type": "code",
   "execution_count": 9,
   "id": "6404b053-10d3-483a-b06c-af4e107f3f27",
   "metadata": {},
   "outputs": [
    {
     "name": "stdout",
     "output_type": "stream",
     "text": [
      "<ZipInfo filename='data_v0/31310/result.json' compress_type=deflate filemode='-rw-rw-r--' file_size=1799 compress_size=410>\n"
     ]
    }
   ],
   "source": [
    "print(archive.infolist()[2])"
   ]
  },
  {
   "cell_type": "code",
   "execution_count": 40,
   "id": "01bb612d-10d7-447e-ae75-2f2f27d88a51",
   "metadata": {},
   "outputs": [
    {
     "name": "stdout",
     "output_type": "stream",
     "text": [
      "1 data_v0/31310/meta.json\n",
      "1001 data_v0/42706/meta.json\n",
      "2001 data_v0/6284/meta.json\n",
      "3001 data_v0/3326/meta.json\n",
      "4001 data_v0/37913/meta.json\n",
      "5001 data_v0/26100/meta.json\n",
      "6001 data_v0/46264/meta.json\n",
      "7001 data_v0/3549/meta.json\n",
      "8001 data_v0/45766/meta.json\n",
      "9001 data_v0/41900/meta.json\n",
      "10001 data_v0/14305/meta.json\n",
      "11001 data_v0/288/meta.json\n",
      "12001 data_v0/24299/meta.json\n",
      "13001 data_v0/39086/meta.json\n",
      "14001 data_v0/40462/meta.json\n",
      "15001 data_v0/31462/meta.json\n",
      "16001 data_v0/11487/meta.json\n",
      "17001 data_v0/3868/meta.json\n",
      "18001 data_v0/36435/meta.json\n",
      "19001 data_v0/45206/meta.json\n",
      "20001 data_v0/48737/meta.json\n",
      "21001 data_v0/17090/meta.json\n",
      "22001 data_v0/8310/meta.json\n",
      "23001 data_v0/5638/meta.json\n",
      "24001 data_v0/41354/meta.json\n",
      "25001 data_v0/48156/meta.json\n",
      "26001 data_v0/15217/meta.json\n",
      "27001 data_v0/37546/meta.json\n",
      "28001 data_v0/36656/meta.json\n",
      "29001 data_v0/11678/meta.json\n",
      "30001 data_v0/16163/meta.json\n",
      "31001 data_v0/24949/meta.json\n",
      "32001 data_v0/10338/meta.json\n"
     ]
    }
   ],
   "source": [
    "i = 0\n",
    "model_ids = []\n",
    "for file in archive.infolist():\n",
    "    if \"meta.json\" in file.filename:\n",
    "        i += 1\n",
    "        if i % 1000 == 1:\n",
    "            print(i, file.filename)\n",
    "        meta_json = json.loads(archive.read(file.filename).decode())\n",
    "        result_json = json.loads(archive.read(file.filename.replace(\"meta\", \"result\")).decode())\n",
    "        data = {\"meta\": meta_json, \"result\": result_json}\n",
    "        model_id = meta_json[\"model_id\"]\n",
    "        model_ids.append(model_id)\n",
    "        with open(\"model_data/json/\" + model_id + \".json\", 'w') as data_file:\n",
    "            data_file.write(json.dumps(data))\n",
    "archive.close()"
   ]
  },
  {
   "cell_type": "code",
   "execution_count": 42,
   "id": "e7d48db1-990b-4817-b3eb-5b32dd0cd277",
   "metadata": {},
   "outputs": [],
   "source": []
  },
  {
   "cell_type": "code",
   "execution_count": 41,
   "id": "74f924b0-3951-4f8f-ba37-595d216f2112",
   "metadata": {},
   "outputs": [
    {
     "name": "stdout",
     "output_type": "stream",
     "text": [
      "32537\n"
     ]
    }
   ],
   "source": [
    "print(len(model_ids))"
   ]
  },
  {
   "cell_type": "code",
   "execution_count": 43,
   "id": "37a3ca82-956d-45ef-a1d8-de89e8910194",
   "metadata": {},
   "outputs": [],
   "source": [
    "archive = zipfile.ZipFile(\"ShapeNetCore.v2.zip\")"
   ]
  },
  {
   "cell_type": "code",
   "execution_count": 48,
   "id": "a6029c75-31af-45d8-8d06-dec6759ce402",
   "metadata": {},
   "outputs": [
    {
     "name": "stdout",
     "output_type": "stream",
     "text": [
      "<ZipInfo filename='ShapeNetCore.v2/04090263/7fb2ec71361813bfcec05e03e317cbf8/' filemode='drwxrwxr-x' external_attr=0x10>\n",
      "586156\n"
     ]
    }
   ],
   "source": [
    "print(archive.infolist()[2])\n",
    "print(len(archive.infolist()))"
   ]
  },
  {
   "cell_type": "code",
   "execution_count": 57,
   "id": "530752dd-b962-48fa-b35f-31b8ff32062e",
   "metadata": {},
   "outputs": [
    {
     "name": "stdout",
     "output_type": "stream",
     "text": [
      "0 02954340\n",
      "1 03761084\n",
      "2 02828884\n",
      "3 03797390\n",
      "4 03207941\n",
      "5 04460130\n",
      "6 02747177\n",
      "7 02933112\n",
      "8 03636649\n",
      "9 02801938\n",
      "10 03085013\n",
      "11 03046257\n",
      "12 03211117\n",
      "13 03325088\n",
      "14 02880940\n",
      "15 03691459\n",
      "16 04379243\n",
      "17 04330267\n",
      "18 02871439\n",
      "19 03759954\n",
      "20 02876657\n",
      "21 02818832\n",
      "22 02808440\n",
      "23 03593526\n",
      "24 03642806\n",
      "25 04554684\n",
      "26 02773838\n",
      "27 03337140\n",
      "28 04256520\n",
      "29 03624134\n",
      "30 03991062\n",
      "31 03261776\n",
      "32 03001627\n"
     ]
    }
   ],
   "source": [
    "current_folder = \"0\"\n",
    "current_upper_folder = \"\"\n",
    "i = -1\n",
    "for filename in archive.namelist():\n",
    "    if filename.startswith(current_folder) and \"images\" not in filename and \"screenshots\" not in filename and \"models\" in filename:\n",
    "        archive.extract(filename, \"model_data/shapes\")\n",
    "    elif filename.count('/') == 3 and filename.endswith(\"/\"):\n",
    "        if filename.split(\"/\")[2] in model_ids:\n",
    "            if current_upper_folder != filename.split(\"/\")[1]:\n",
    "                i += 1\n",
    "                current_upper_folder = filename.split(\"/\")[1]\n",
    "                print(i, current_upper_folder)\n",
    "            current_folder = filename\n",
    "            archive.extract(filename, \"model_data/shapes\")"
   ]
  },
  {
   "cell_type": "code",
   "execution_count": null,
   "id": "ba45d40e-ceb9-4245-a39b-08057e3680db",
   "metadata": {},
   "outputs": [],
   "source": []
  }
 ],
 "metadata": {
  "kernelspec": {
   "display_name": "Python 3 (ipykernel)",
   "language": "python",
   "name": "python3"
  },
  "language_info": {
   "codemirror_mode": {
    "name": "ipython",
    "version": 3
   },
   "file_extension": ".py",
   "mimetype": "text/x-python",
   "name": "python",
   "nbconvert_exporter": "python",
   "pygments_lexer": "ipython3",
   "version": "3.9.7"
  }
 },
 "nbformat": 4,
 "nbformat_minor": 5
}
