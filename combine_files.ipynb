{
  "cells": [
   {
    "cell_type": "code",
    "execution_count": 1,
    "metadata": {},
    "outputs": [
     {
      "name": "stdout",
      "output_type": "stream",
      "text": [
       "26671\n"
      ]
     }
    ],
    "source": [
     "import json\n",
     "from glob import glob\n",
     "\n",
     "# get list of filenames in data/json\n",
     "filenames = glob('data/json/*.json')"
    ]
   },
   {
    "cell_type": "code",
    "execution_count": 2,
    "metadata": {},
    "outputs": [
     {
      "name": "stdout",
      "output_type": "stream",
      "text": [
       "26671\n"
      ]
     }
    ],
    "source": [
     "# custom datareader class to read json data\n",
     "class DataReader:\n",
     "    def __init__(self, filenames):\n",
     "        self.filenames = filenames\n",
     "        self.index = 0\n",
     "    def __iter__(self):\n",
     "        return self\n",
     "    def __next__(self):\n",
     "        if self.index == len(self.filenames):\n",
     "            raise StopIteration\n",
     "        filename = self.filenames[self.index]\n",
     "        self.index += 1\n",
     "        return json.load(open(filename))\n",
     "    def __len__(self):\n",
     "        return len(self.filenames)\n",
     "    def __getitem__(self, index):\n",
     "        # check if index is integer\n",
     "        return json.load(open(self.filenames[index]))\n",
     "\n",
     "data_reader = DataReader(filenames)\n",
     "print(len(data_reader))"
    ]
   },
   {
    "cell_type": "code",
    "execution_count": 18,
    "metadata": {},
    "outputs": [],
    "source": [
     "meta_data = (d['meta'] for d in data_reader)\n",
     "descriptions = {d['meta']['model_id']: d['result'] for d in data_reader}"
    ]
   },
   {
    "cell_type": "code",
    "execution_count": 17,
    "metadata": {},
    "outputs": [],
    "source": [
     "import pandas as pd\n",
     "df = pd.DataFrame(meta_data)\n",
     "df.to_csv('data/metadata.csv')\n",
     "# save descriptions to json\n",
     "with open('data/descriptions.json', 'w') as f:\n",
     "    json.dump(descriptions, f)"
    ]
   },
   {
    "cell_type": "code",
    "execution_count": null,
    "metadata": {},
    "outputs": [],
    "source": []
   }
  ],
  "metadata": {
   "interpreter": {
    "hash": "ac59ebe37160ed0dfa835113d9b8498d9f09ceb179beaac4002f036b9467c963"
   },
   "kernelspec": {
    "display_name": "Python 3.9.9 64-bit",
    "language": "python",
    "name": "python3"
   },
   "language_info": {
    "codemirror_mode": {
     "name": "ipython",
     "version": 3
    },
    "file_extension": ".py",
    "mimetype": "text/x-python",
    "name": "python",
    "nbconvert_exporter": "python",
    "pygments_lexer": "ipython3",
    "version": "3.9.9"
   },
   "orig_nbformat": 4
  },
  "nbformat": 4,
  "nbformat_minor": 2
 }