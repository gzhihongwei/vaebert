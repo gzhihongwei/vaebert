{
 "cells": [
  {
   "cell_type": "code",
   "execution_count": 10,
   "id": "ffb87edb-ef09-4f2b-82b8-f165c7c4f4ab",
   "metadata": {},
   "outputs": [],
   "source": [
    "import json\n",
    "import random"
   ]
  },
  {
   "cell_type": "code",
   "execution_count": 2,
   "id": "441214e0-b738-474b-9555-ee043a7622b1",
   "metadata": {},
   "outputs": [],
   "source": [
    "with open('binvox_metadata.json', 'r') as f:\n",
    "    data = json.load(f)"
   ]
  },
  {
   "cell_type": "code",
   "execution_count": 3,
   "id": "6a430249-a1ec-44fd-b51b-34f94b446232",
   "metadata": {},
   "outputs": [
    {
     "name": "stdout",
     "output_type": "stream",
     "text": [
      "dict_keys(['cat_ids', 'model_ids'])\n"
     ]
    }
   ],
   "source": [
    "print(data.keys())"
   ]
  },
  {
   "cell_type": "code",
   "execution_count": 5,
   "id": "db66f398-6156-4a6c-8cd7-35c2a4012698",
   "metadata": {},
   "outputs": [
    {
     "name": "stdout",
     "output_type": "stream",
     "text": [
      "17934\n"
     ]
    }
   ],
   "source": [
    "print(len(data[\"cat_ids\"]))"
   ]
  },
  {
   "cell_type": "code",
   "execution_count": 6,
   "id": "d6e9787a-4188-4609-b1c0-23bb9d85375c",
   "metadata": {},
   "outputs": [],
   "source": [
    "current_cat_id = \"\"\n",
    "cat_ids = []\n",
    "indexes = []\n",
    "for i, cat_id in enumerate(data[\"cat_ids\"]):\n",
    "    if cat_id != current_cat_id:\n",
    "        cat_ids.append(cat_id)\n",
    "        indexes.append(i)\n",
    "        current_cat_id = cat_id"
   ]
  },
  {
   "cell_type": "code",
   "execution_count": 13,
   "id": "2b64e2af-6e04-43a5-9a5b-4187d2ed0e36",
   "metadata": {},
   "outputs": [
    {
     "name": "stdout",
     "output_type": "stream",
     "text": [
      "['02818832', '02876657', '02880940', '03001627', '03046257', '03325088', '03593526', '03636649', '03642806', '03797390', '04379243']\n",
      "[0, 204, 668, 809, 6726, 7260, 7774, 8328, 9542, 9973, 10182]\n",
      "[[0, 204], [204, 668], [668, 809], [809, 6726], [6726, 7260], [7260, 7774], [7774, 8328], [8328, 9542], [9542, 9973], [9973, 10182], [10182, 17934]]\n"
     ]
    }
   ],
   "source": [
    "print(cat_ids)\n",
    "print(indexes)\n",
    "cat_id_range_indexes = []\n",
    "for i in range(10):\n",
    "    if i != 10:\n",
    "        cat_id_range_indexes.append([indexes[i], indexes[i+1]])\n",
    "cat_id_range_indexes.append([indexes[10], 17934])\n",
    "print(cat_id_range_indexes)\n",
    "cat_id_suffled_ranges = []\n",
    "for i in range(11):\n",
    "    cat_range = [j for j in range(cat_id_ranges[i][0], cat_id_ranges[i][1])]\n",
    "    random.shuffle(cat_range)\n",
    "    cat_id_suffled_ranges.append(cat_range)"
   ]
  },
  {
   "cell_type": "code",
   "execution_count": 15,
   "id": "b2e2c65b-12dc-43d8-84df-4d12d3e9188d",
   "metadata": {},
   "outputs": [
    {
     "name": "stdout",
     "output_type": "stream",
     "text": [
      "[117, 91, 181, 203, 139, 124, 165, 3, 47, 148, 183, 40, 97, 135, 164, 172, 64, 200, 104, 98]\n",
      "16134 1800 17934\n"
     ]
    }
   ],
   "source": [
    "print(cat_id_suffled_ranges[0][0:20])\n",
    "train_indexes = []\n",
    "test_indexes = []\n",
    "for cat_range in cat_id_suffled_ranges:\n",
    "    train_number = int(len(cat_range) * 0.9)\n",
    "    train_indexes.extend(cat_range[:train_number])\n",
    "    test_indexes.extend(cat_range[train_number:])\n",
    "print(len(train_indexes), len(test_indexes), len(train_indexes)+len(test_indexes))"
   ]
  },
  {
   "cell_type": "code",
   "execution_count": 16,
   "id": "02109b85-ed3e-4649-a05d-05f26328ba01",
   "metadata": {},
   "outputs": [],
   "source": [
    "with open('train_indexes.json', 'w') as f:\n",
    "    json.dump(train_indexes, f)\n",
    "with open('test_indexes.json', 'w') as f:\n",
    "    json.dump(test_indexes, f)"
   ]
  },
  {
   "cell_type": "code",
   "execution_count": 21,
   "id": "d5662e58-88a5-44a4-bbe8-ba364d8730ec",
   "metadata": {},
   "outputs": [
    {
     "name": "stdout",
     "output_type": "stream",
     "text": [
      "[117, 91, 181, 203, 139, 124, 165, 3, 47, 148, 183, 40, 97, 135, 164, 172, 64, 200, 104, 98]\n"
     ]
    }
   ],
   "source": [
    "with open('train_indexes.json', 'r') as f:\n",
    "    indexes = json.load(f)\n",
    "    print(indexes[0:20])"
   ]
  },
  {
   "cell_type": "code",
   "execution_count": null,
   "id": "331cf586-47c9-460c-bef4-d1faf33c9db4",
   "metadata": {},
   "outputs": [],
   "source": []
  }
 ],
 "metadata": {
  "kernelspec": {
   "display_name": "Python 3 (ipykernel)",
   "language": "python",
   "name": "python3"
  },
  "language_info": {
   "codemirror_mode": {
    "name": "ipython",
    "version": 3
   },
   "file_extension": ".py",
   "mimetype": "text/x-python",
   "name": "python",
   "nbconvert_exporter": "python",
   "pygments_lexer": "ipython3",
   "version": "3.9.7"
  }
 },
 "nbformat": 4,
 "nbformat_minor": 5
}
